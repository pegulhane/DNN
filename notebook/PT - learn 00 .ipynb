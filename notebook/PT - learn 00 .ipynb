{
 "cells": [
  {
   "cell_type": "markdown",
   "metadata": {},
   "source": [
    "Convolution Network\n",
    "\n",
    "https://pytorch.org/tutorials/_images/mnist.png\n"
   ]
  },
  {
   "cell_type": "code",
   "execution_count": 2,
   "metadata": {},
   "outputs": [],
   "source": [
    "%config IPCompleter.greedy=True\n",
    "%matplotlib inline\n",
    "\n",
    "import matplotlib\n",
    "import numpy as np\n",
    "import matplotlib.pyplot as plt\n",
    "\n",
    "import torch\n",
    "import torch.nn as nn\n",
    "from torch.autograd import Variable"
   ]
  },
  {
   "cell_type": "code",
   "execution_count": 9,
   "metadata": {},
   "outputs": [],
   "source": [
    "class TestNet(nn.Module):\n",
    "    def __init__(self):\n",
    "        super().__init__()\n",
    "        #self.conv = nn.Conv2d(1, 2, 1)\n",
    "        self.lin = nn.Linear(1, 1, bias=True)\n",
    "        \n",
    "    def forward(self, x):\n",
    "        y = self.lin(x)\n",
    "        return y\n"
   ]
  },
  {
   "cell_type": "code",
   "execution_count": 10,
   "metadata": {},
   "outputs": [
    {
     "data": {
      "text/plain": [
       "[Parameter containing:\n",
       " tensor([[-0.0269]], requires_grad=True), Parameter containing:\n",
       " tensor([0.7245], requires_grad=True)]"
      ]
     },
     "execution_count": 10,
     "metadata": {},
     "output_type": "execute_result"
    }
   ],
   "source": [
    "net = TestNet()\n",
    "params = list(net.parameters())\n",
    "params"
   ]
  },
  {
   "cell_type": "code",
   "execution_count": 11,
   "metadata": {},
   "outputs": [
    {
     "data": {
      "text/plain": [
       "<matplotlib.collections.PathCollection at 0x1c855807a90>"
      ]
     },
     "execution_count": 11,
     "metadata": {},
     "output_type": "execute_result"
    },
    {
     "data": {
      "image/png": "[encoded data removed]",
      "text/plain": [
       "<Figure size 432x288 with 1 Axes>"
      ]
     },
     "metadata": {},
     "output_type": "display_data"
    }
   ],
   "source": [
    "x_raw = np.random.randn(20)\n",
    "y_raw = (2 * x_raw + 1) + np.random.randn(20)\n",
    "x = np.asarray(x_raw, dtype=np.float32).reshape(-1, 1)\n",
    "y = np.asarray(y_raw, dtype=np.float32).reshape(-1, 1)\n",
    "plt.scatter(x,y)"
   ]
  },
  {
   "cell_type": "markdown",
   "metadata": {},
   "source": [
    "Training of the model"
   ]
  },
  {
   "cell_type": "code",
   "execution_count": 22,
   "metadata": {},
   "outputs": [],
   "source": [
    "loss_function = nn.MSELoss()\n",
    "optimizer = torch.optim.SGD(net.parameters(), lr=0.001)\n",
    "epochs = 100\n",
    "input_var = Variable(torch.from_numpy(x))\n",
    "labels = Variable(torch.from_numpy(y))"
   ]
  },
  {
   "cell_type": "code",
   "execution_count": 23,
   "metadata": {},
   "outputs": [
    {
     "name": "stdout",
     "output_type": "stream",
     "text": [
      "epoch = 0\t loss = 5.823234558105469\n",
      "epoch = 1\t loss = 5.80349063873291\n",
      "epoch = 2\t loss = 5.764169216156006\n",
      "epoch = 3\t loss = 5.705602169036865\n",
      "epoch = 4\t loss = 5.628283500671387\n",
      "epoch = 5\t loss = 5.532864093780518\n",
      "epoch = 6\t loss = 5.420147895812988\n",
      "epoch = 7\t loss = 5.291088581085205\n",
      "epoch = 8\t loss = 5.146770477294922\n",
      "epoch = 9\t loss = 4.9884114265441895\n",
      "epoch = 10\t loss = 4.817349910736084\n",
      "epoch = 11\t loss = 4.63502311706543\n",
      "epoch = 12\t loss = 4.442972660064697\n",
      "epoch = 13\t loss = 4.2428154945373535\n",
      "epoch = 14\t loss = 4.0362372398376465\n",
      "epoch = 15\t loss = 3.8249826431274414\n",
      "epoch = 16\t loss = 3.6108310222625732\n",
      "epoch = 17\t loss = 3.39558744430542\n",
      "epoch = 18\t loss = 3.181065797805786\n",
      "epoch = 19\t loss = 2.9690747261047363\n"
     ]
    }
   ],
   "source": [
    "optimizer.zero_grad()\n",
    "for i in range(20):\n",
    "    output = net.forward(input_var)\n",
    "    loss = loss_function(output, labels)\n",
    "    loss.backward()\n",
    "    optimizer.step()\n",
    "    print(\"epoch = {}\\t loss = {}\".format(i, loss))"
   ]
  },
  {
   "cell_type": "code",
   "execution_count": 24,
   "metadata": {},
   "outputs": [
    {
     "ename": "ModuleNotFoundError",
     "evalue": "No module named 'tensorflow'",
     "output_type": "error",
     "traceback": [
      "\u001b[1;31m---------------------------------------------------------------------------\u001b[0m",
      "\u001b[1;31mModuleNotFoundError\u001b[0m                       Traceback (most recent call last)",
      "\u001b[1;32m<ipython-input-24-d6579f534729>\u001b[0m in \u001b[0;36m<module>\u001b[1;34m()\u001b[0m\n\u001b[1;32m----> 1\u001b[1;33m \u001b[1;32mimport\u001b[0m \u001b[0mtensorflow\u001b[0m\u001b[1;33m\u001b[0m\u001b[0m\n\u001b[0m",
      "\u001b[1;31mModuleNotFoundError\u001b[0m: No module named 'tensorflow'"
     ]
    }
   ],
   "source": []
  }
 ],
 "metadata": {
  "kernelspec": {
   "display_name": "Python 3",
   "language": "python",
   "name": "python3"
  },
  "language_info": {
   "codemirror_mode": {
    "name": "ipython",
    "version": 3
   },
   "file_extension": ".py",
   "mimetype": "text/x-python",
   "name": "python",
   "nbconvert_exporter": "python",
   "pygments_lexer": "ipython3",
   "version": "3.6.5"
  }
 },
 "nbformat": 4,
 "nbformat_minor": 2
}
