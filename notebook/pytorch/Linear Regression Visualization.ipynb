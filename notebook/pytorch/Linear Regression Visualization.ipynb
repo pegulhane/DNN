{
 "cells": [
  {
   "cell_type": "code",
   "execution_count": 45,
   "metadata": {},
   "outputs": [],
   "source": [
    "%config IPCompleter.greedy=True\n",
    "%matplotlib inline\n",
    "\n",
    "import os\n",
    "import datetime\n",
    "import sys\n",
    "\n",
    "import matplotlib\n",
    "import numpy as np\n",
    "import matplotlib.pyplot as plt\n",
    "\n",
    "# for visualization\n",
    "import tensorflow\n",
    "\n",
    "import torch\n",
    "import torch.nn as nn\n",
    "from torch.autograd import Variable\n",
    "\n",
    "# Local\n",
    "SR_DIR = os.path.abspath(os.path.join(os.pardir, os.pardir))\n",
    "sys.path.append(SR_DIR)\n",
    "\n",
    "from pytorch.visualization.tf_logger import Logger\n",
    "tf_logger = Logger('/tmp/test')"
   ]
  },
  {
   "cell_type": "markdown",
   "metadata": {},
   "source": [
    "## Setup Model##\n",
    "Create a linear network "
   ]
  },
  {
   "cell_type": "code",
   "execution_count": 46,
   "metadata": {},
   "outputs": [
    {
     "data": {
      "text/plain": [
       "[Parameter containing:\n",
       " tensor([[-0.6470]], requires_grad=True), Parameter containing:\n",
       " tensor([0.3074], requires_grad=True)]"
      ]
     },
     "execution_count": 46,
     "metadata": {},
     "output_type": "execute_result"
    }
   ],
   "source": [
    "class TestNet(nn.Module):\n",
    "    def __init__(self):\n",
    "        super().__init__()\n",
    "        #self.conv = nn.Conv2d(1, 2, 1)\n",
    "        self.lin = nn.Linear(1, 1, bias=True)\n",
    "        \n",
    "    def forward(self, x):\n",
    "        y = self.lin(x)\n",
    "        return y\n",
    "\n",
    "# List all the parameters\n",
    "net = TestNet()\n",
    "params = list(net.parameters())\n",
    "params"
   ]
  },
  {
   "cell_type": "code",
   "execution_count": 47,
   "metadata": {},
   "outputs": [
    {
     "data": {
      "image/png": "[encoded data removed]",
      "text/plain": [
       "<Figure size 432x288 with 1 Axes>"
      ]
     },
     "metadata": {
      "needs_background": "light"
     },
     "output_type": "display_data"
    }
   ],
   "source": [
    "x = torch.randn(20, 1, dtype=torch.float32)\n",
    "y = (2 * x + 1) + torch.randn(20, 1, dtype=torch.float32)\n",
    "plt.scatter(x,y);"
   ]
  },
  {
   "cell_type": "markdown",
   "metadata": {},
   "source": [
    "## Setup Training ##"
   ]
  },
  {
   "cell_type": "code",
   "execution_count": 48,
   "metadata": {},
   "outputs": [],
   "source": [
    "loss_function = nn.MSELoss()\n",
    "optimizer = torch.optim.SGD(net.parameters(), lr=0.01)\n",
    "epochs = 100"
   ]
  },
  {
   "cell_type": "code",
   "execution_count": 49,
   "metadata": {},
   "outputs": [
    {
     "name": "stdout",
     "output_type": "stream",
     "text": [
      "Total time in milisecond : 55\n"
     ]
    },
    {
     "data": {
      "image/png": "[encoded data removed]",
      "text/plain": [
       "<Figure size 432x288 with 1 Axes>"
      ]
     },
     "metadata": {
      "needs_background": "light"
     },
     "output_type": "display_data"
    }
   ],
   "source": [
    "# CPU Training\n",
    "start = datetime.datetime.now()\n",
    "losses = []\n",
    "\n",
    "# setting up mode\n",
    "net.train()\n",
    "for i in range(epochs):\n",
    "    # making sure that it is not tracking old gradients \n",
    "    optimizer.zero_grad()    \n",
    "    \n",
    "    output = net.forward(x)\n",
    "    loss = loss_function(output, y)\n",
    "    loss.backward()\n",
    "    optimizer.step()\n",
    "    #print(\"epoch = {}\\t loss = {}\\t m:{} \\t b:{}\".format(i, loss, params[0].item(), params[1].item()))\n",
    "    losses.append(loss)    \n",
    "    \n",
    "    #using Tensorboard to visualize epoch losses\n",
    "    tf_logger.log_scalar(\"epoch_loss\", loss, i)\n",
    "end = datetime.datetime.now()\n",
    "\n",
    "plt.plot(losses, 'g', label = 'from data', alpha = .5)\n",
    "\n",
    "print (\"Total time in milisecond : {}\".format( int((end-start).total_seconds() * 1000)))"
   ]
  },
  {
   "cell_type": "markdown",
   "metadata": {},
   "source": [
    "## Prediction ##"
   ]
  },
  {
   "cell_type": "code",
   "execution_count": 50,
   "metadata": {},
   "outputs": [
    {
     "data": {
      "image/png": "[encoded data removed]",
      "text/plain": [
       "<Figure size 432x288 with 1 Axes>"
      ]
     },
     "metadata": {
      "needs_background": "light"
     },
     "output_type": "display_data"
    },
    {
     "name": "stdout",
     "output_type": "stream",
     "text": [
      "OrderedDict([('lin.weight', tensor([[1.9839]])), ('lin.bias', tensor([0.9454]))])\n"
     ]
    }
   ],
   "source": [
    "net.eval()\n",
    "predicted = net.forward(x).data.numpy()\n",
    "\n",
    "plt.plot(x.numpy(), y.numpy(), 'go', label = 'from data', alpha = .5)\n",
    "plt.plot(x.numpy(), predicted, label = 'prediction', alpha = 0.5)\n",
    "plt.legend()\n",
    "plt.show()\n",
    "print(net.state_dict())"
   ]
  }
 ],
 "metadata": {
  "kernelspec": {
   "display_name": "Python 3",
   "language": "python",
   "name": "python3"
  },
  "language_info": {
   "codemirror_mode": {
    "name": "ipython",
    "version": 3
   },
   "file_extension": ".py",
   "mimetype": "text/x-python",
   "name": "python",
   "nbconvert_exporter": "python",
   "pygments_lexer": "ipython3",
   "version": "3.7.3"
  }
 },
 "nbformat": 4,
 "nbformat_minor": 2
}
