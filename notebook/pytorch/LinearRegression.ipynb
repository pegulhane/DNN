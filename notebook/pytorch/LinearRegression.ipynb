{
 "cells": [
  {
   "cell_type": "markdown",
   "metadata": {},
   "source": [
    "Convolution Network\n",
    "\n",
    "https://pytorch.org/tutorials/_images/mnist.png\n"
   ]
  },
  {
   "cell_type": "code",
   "execution_count": 12,
   "metadata": {},
   "outputs": [],
   "source": [
    "%config IPCompleter.greedy=True\n",
    "%matplotlib inline\n",
    "\n",
    "import datetime\n",
    "\n",
    "import matplotlib\n",
    "import numpy as np\n",
    "import matplotlib.pyplot as plt\n",
    "\n",
    "import torch\n",
    "import torch.nn as nn\n",
    "from torch.autograd import Variable"
   ]
  },
  {
   "cell_type": "code",
   "execution_count": 3,
   "metadata": {},
   "outputs": [],
   "source": [
    "class TestNet(nn.Module):\n",
    "    def __init__(self):\n",
    "        super().__init__()\n",
    "        #self.conv = nn.Conv2d(1, 2, 1)\n",
    "        self.lin = nn.Linear(1, 1, bias=True)\n",
    "        \n",
    "    def forward(self, x):\n",
    "        y = self.lin(x)\n",
    "        return y\n"
   ]
  },
  {
   "cell_type": "code",
   "execution_count": 4,
   "metadata": {},
   "outputs": [
    {
     "data": {
      "text/plain": [
       "[Parameter containing:\n",
       " tensor([[-0.4941]], requires_grad=True), Parameter containing:\n",
       " tensor([-0.6368], requires_grad=True)]"
      ]
     },
     "execution_count": 4,
     "metadata": {},
     "output_type": "execute_result"
    }
   ],
   "source": [
    "net = TestNet()\n",
    "params = list(net.parameters())\n",
    "params"
   ]
  },
  {
   "cell_type": "code",
   "execution_count": 5,
   "metadata": {},
   "outputs": [
    {
     "data": {
      "text/plain": [
       "<matplotlib.collections.PathCollection at 0x7fda0bc47978>"
      ]
     },
     "execution_count": 5,
     "metadata": {},
     "output_type": "execute_result"
    },
    {
     "data": {
      "image/png": "[encoded data removed]",
      "text/plain": [
       "<Figure size 432x288 with 1 Axes>"
      ]
     },
     "metadata": {
      "needs_background": "light"
     },
     "output_type": "display_data"
    }
   ],
   "source": [
    "x_raw = np.random.randn(20)\n",
    "y_raw = (2 * x_raw + 1) + np.random.randn(20)\n",
    "x = np.asarray(x_raw, dtype=np.float32).reshape(-1, 1)\n",
    "y = np.asarray(y_raw, dtype=np.float32).reshape(-1, 1)\n",
    "plt.scatter(x,y)"
   ]
  },
  {
   "cell_type": "markdown",
   "metadata": {},
   "source": [
    "Training of the model"
   ]
  },
  {
   "cell_type": "code",
   "execution_count": 6,
   "metadata": {},
   "outputs": [],
   "source": [
    "loss_function = nn.MSELoss()\n",
    "optimizer = torch.optim.SGD(net.parameters(), lr=0.01)\n",
    "epochs = 100\n",
    "input_var = Variable(torch.from_numpy(x))\n",
    "labels = Variable(torch.from_numpy(y))"
   ]
  },
  {
   "cell_type": "code",
   "execution_count": 13,
   "metadata": {},
   "outputs": [
    {
     "name": "stdout",
     "output_type": "stream",
     "text": [
      "Total time in milisecond : 794\n"
     ]
    }
   ],
   "source": [
    "start = datetime.datetime.now()\n",
    "\n",
    "# setting up mode\n",
    "net.train()\n",
    "for i in range(20):\n",
    "    # making sure that it is not tracking old gradients \n",
    "    optimizer.zero_grad()    \n",
    "    \n",
    "    output = net.forward(input_var)\n",
    "    loss = loss_function(output, labels)\n",
    "    loss.backward()\n",
    "    optimizer.step()\n",
    "    print(\"epoch = {}\\t loss = {}\\t m:{} \\t b:{}\".format(i, loss, params[0].item(), params[1].item()))\n",
    "end = datetime.datetime.now()\n",
    "\n",
    "print (\"Total time in milisecond : {}\".format( int((end-start).total_seconds() * 1000)))"
   ]
  },
  {
   "cell_type": "markdown",
   "metadata": {},
   "source": [
    "Prediction"
   ]
  },
  {
   "cell_type": "code",
   "execution_count": 8,
   "metadata": {},
   "outputs": [
    {
     "data": {
      "text/plain": [
       "array([[-0.0439037 ],\n",
       "       [-0.05951063],\n",
       "       [-0.35793215],\n",
       "       [-0.06449269],\n",
       "       [ 0.5835801 ],\n",
       "       [-0.40594667],\n",
       "       [-0.7161437 ],\n",
       "       [-0.147879  ],\n",
       "       [ 0.01785025],\n",
       "       [-0.22902036],\n",
       "       [-0.07414756],\n",
       "       [-0.26403302],\n",
       "       [-0.32571346],\n",
       "       [ 0.12378621],\n",
       "       [ 0.15202004],\n",
       "       [-0.40388843],\n",
       "       [ 0.00659087],\n",
       "       [-0.17050764],\n",
       "       [ 0.14235714],\n",
       "       [ 0.20337903]], dtype=float32)"
      ]
     },
     "execution_count": 8,
     "metadata": {},
     "output_type": "execute_result"
    }
   ],
   "source": [
    "net.eval()\n",
    "predicted = net.forward(input_var).data.numpy()\n",
    "predicted"
   ]
  },
  {
   "cell_type": "code",
   "execution_count": 9,
   "metadata": {},
   "outputs": [
    {
     "data": {
      "image/png": "[encoded data removed]",
      "text/plain": [
       "<Figure size 432x288 with 1 Axes>"
      ]
     },
     "metadata": {
      "needs_background": "light"
     },
     "output_type": "display_data"
    },
    {
     "name": "stdout",
     "output_type": "stream",
     "text": [
      "OrderedDict([('lin.weight', tensor([[0.2812]])), ('lin.bias', tensor([-0.1241]))])\n"
     ]
    }
   ],
   "source": [
    "plt.plot(x, y, 'go', label = 'from data', alpha = .5)\n",
    "plt.plot(x, predicted, label = 'prediction', alpha = 0.5)\n",
    "plt.legend()\n",
    "plt.show()\n",
    "print(net.state_dict())"
   ]
  },
  {
   "cell_type": "markdown",
   "metadata": {},
   "source": [
    "GPU Training\n"
   ]
  },
  {
   "cell_type": "code",
   "execution_count": 19,
   "metadata": {},
   "outputs": [
    {
     "name": "stdout",
     "output_type": "stream",
     "text": [
      "Total time in milisecond : 29\n"
     ]
    }
   ],
   "source": [
    "net.cuda()\n",
    "\n",
    "start = datetime.datetime.now()\n",
    "net.train()\n",
    "for i in range(20):\n",
    "    input_var = Variable(torch.from_numpy(x).cuda())\n",
    "    labels = Variable(torch.from_numpy(y).cuda())\n",
    "\n",
    "    optimizer.zero_grad()    \n",
    "\n",
    "    output = net.forward(input_var)\n",
    "    loss = loss_function(output, labels)\n",
    "    loss.backward()\n",
    "    optimizer.step()\n",
    "    #print(\"epoch = {}\\t loss = {}\\t m:{} \\t b:{}\".format(i, loss, params[0].item(), params[1].item()))\n",
    "end = datetime.datetime.now()\n",
    "\n",
    "print (\"Total time in milisecond : {}\".format( int((end-start).total_seconds() * 1000)))"
   ]
  }
 ],
 "metadata": {
  "kernelspec": {
   "display_name": "Python 3",
   "language": "python",
   "name": "python3"
  },
  "language_info": {
   "codemirror_mode": {
    "name": "ipython",
    "version": 3
   },
   "file_extension": ".py",
   "mimetype": "text/x-python",
   "name": "python",
   "nbconvert_exporter": "python",
   "pygments_lexer": "ipython3",
   "version": "3.7.3"
  }
 },
 "nbformat": 4,
 "nbformat_minor": 2
}
