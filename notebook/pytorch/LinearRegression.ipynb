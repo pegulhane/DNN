{
 "cells": [
  {
   "cell_type": "markdown",
   "metadata": {},
   "source": [
    "Convolution Network\n",
    "\n",
    "https://pytorch.org/tutorials/_images/mnist.png\n"
   ]
  },
  {
   "cell_type": "code",
   "execution_count": 38,
   "metadata": {},
   "outputs": [],
   "source": [
    "%config IPCompleter.greedy=True\n",
    "%matplotlib inline\n",
    "\n",
    "import matplotlib\n",
    "import numpy as np\n",
    "import matplotlib.pyplot as plt\n",
    "\n",
    "import torch\n",
    "import torch.nn as nn\n",
    "from torch.autograd import Variable"
   ]
  },
  {
   "cell_type": "code",
   "execution_count": 39,
   "metadata": {},
   "outputs": [],
   "source": [
    "class TestNet(nn.Module):\n",
    "    def __init__(self):\n",
    "        super().__init__()\n",
    "        #self.conv = nn.Conv2d(1, 2, 1)\n",
    "        self.lin = nn.Linear(1, 1, bias=True)\n",
    "        \n",
    "    def forward(self, x):\n",
    "        y = self.lin(x)\n",
    "        return y\n"
   ]
  },
  {
   "cell_type": "code",
   "execution_count": 40,
   "metadata": {},
   "outputs": [
    {
     "data": {
      "text/plain": [
       "[Parameter containing:\n",
       " tensor([[0.1336]], requires_grad=True), Parameter containing:\n",
       " tensor([-0.9990], requires_grad=True)]"
      ]
     },
     "execution_count": 40,
     "metadata": {},
     "output_type": "execute_result"
    }
   ],
   "source": [
    "net = TestNet()\n",
    "params = list(net.parameters())\n",
    "params"
   ]
  },
  {
   "cell_type": "code",
   "execution_count": 41,
   "metadata": {},
   "outputs": [
    {
     "data": {
      "text/plain": [
       "<matplotlib.collections.PathCollection at 0x1c8568b2f60>"
      ]
     },
     "execution_count": 41,
     "metadata": {},
     "output_type": "execute_result"
    },
    {
     "data": {
      "image/png": "[encoded data removed]",
      "text/plain": [
       "<Figure size 432x288 with 1 Axes>"
      ]
     },
     "metadata": {},
     "output_type": "display_data"
    }
   ],
   "source": [
    "x_raw = np.random.randn(20)\n",
    "y_raw = (2 * x_raw + 1) + np.random.randn(20)\n",
    "x = np.asarray(x_raw, dtype=np.float32).reshape(-1, 1)\n",
    "y = np.asarray(y_raw, dtype=np.float32).reshape(-1, 1)\n",
    "plt.scatter(x,y)"
   ]
  },
  {
   "cell_type": "markdown",
   "metadata": {},
   "source": [
    "Training of the model"
   ]
  },
  {
   "cell_type": "code",
   "execution_count": 118,
   "metadata": {},
   "outputs": [],
   "source": [
    "loss_function = nn.MSELoss()\n",
    "optimizer = torch.optim.SGD(net.parameters(), lr=0.01)\n",
    "epochs = 100\n",
    "input_var = Variable(torch.from_numpy(x))\n",
    "labels = Variable(torch.from_numpy(y))"
   ]
  },
  {
   "cell_type": "code",
   "execution_count": 119,
   "metadata": {},
   "outputs": [
    {
     "name": "stdout",
     "output_type": "stream",
     "text": [
      "epoch = 0\t loss = 0.5555999279022217\t m:2.249877691268921 \t b:1.202512264251709\n",
      "epoch = 1\t loss = 0.5555999279022217\t m:2.249877691268921 \t b:1.202512264251709\n",
      "epoch = 2\t loss = 0.5555999279022217\t m:2.249877691268921 \t b:1.202512264251709\n",
      "epoch = 3\t loss = 0.5555999279022217\t m:2.249877691268921 \t b:1.202512264251709\n",
      "epoch = 4\t loss = 0.5555999279022217\t m:2.249877691268921 \t b:1.202512264251709\n",
      "epoch = 5\t loss = 0.5555999279022217\t m:2.249877691268921 \t b:1.202512264251709\n",
      "epoch = 6\t loss = 0.5555999279022217\t m:2.249877691268921 \t b:1.202512264251709\n",
      "epoch = 7\t loss = 0.5555999279022217\t m:2.249877691268921 \t b:1.202512264251709\n",
      "epoch = 8\t loss = 0.5555999279022217\t m:2.249877691268921 \t b:1.202512264251709\n",
      "epoch = 9\t loss = 0.5555999279022217\t m:2.249877691268921 \t b:1.202512264251709\n",
      "epoch = 10\t loss = 0.5555999279022217\t m:2.249877691268921 \t b:1.202512264251709\n",
      "epoch = 11\t loss = 0.5555999279022217\t m:2.249877691268921 \t b:1.202512264251709\n",
      "epoch = 12\t loss = 0.5555999279022217\t m:2.249877691268921 \t b:1.202512264251709\n",
      "epoch = 13\t loss = 0.5555999279022217\t m:2.249877691268921 \t b:1.202512264251709\n",
      "epoch = 14\t loss = 0.5555999279022217\t m:2.249877691268921 \t b:1.202512264251709\n",
      "epoch = 15\t loss = 0.5555999279022217\t m:2.249877691268921 \t b:1.202512264251709\n",
      "epoch = 16\t loss = 0.5555999279022217\t m:2.249877691268921 \t b:1.202512264251709\n",
      "epoch = 17\t loss = 0.5555999279022217\t m:2.249877691268921 \t b:1.202512264251709\n",
      "epoch = 18\t loss = 0.5555999279022217\t m:2.249877691268921 \t b:1.202512264251709\n",
      "epoch = 19\t loss = 0.5555999279022217\t m:2.249877691268921 \t b:1.202512264251709\n"
     ]
    }
   ],
   "source": [
    "net.train()\n",
    "for i in range(20):\n",
    "    optimizer.zero_grad()    \n",
    "    output = net.forward(input_var)\n",
    "    loss = loss_function(output, labels)\n",
    "    loss.backward()\n",
    "    optimizer.step()\n",
    "    print(\"epoch = {}\\t loss = {}\\t m:{} \\t b:{}\".format(i, loss, params[0].item(), params[1].item()))"
   ]
  },
  {
   "cell_type": "markdown",
   "metadata": {},
   "source": [
    "Prediction"
   ]
  },
  {
   "cell_type": "code",
   "execution_count": 128,
   "metadata": {},
   "outputs": [
    {
     "data": {
      "text/plain": [
       "array([[ 0.46841288],\n",
       "       [ 1.0617554 ],\n",
       "       [ 0.63668305],\n",
       "       [-1.6177509 ],\n",
       "       [ 2.2842379 ],\n",
       "       [-0.6626762 ],\n",
       "       [ 0.94892097],\n",
       "       [-1.5646555 ],\n",
       "       [ 2.5499864 ],\n",
       "       [ 2.088234  ],\n",
       "       [ 2.9298835 ],\n",
       "       [-2.2249205 ],\n",
       "       [-3.2603087 ],\n",
       "       [-2.327214  ],\n",
       "       [ 2.9662657 ],\n",
       "       [ 7.2831717 ],\n",
       "       [-1.424216  ],\n",
       "       [-0.5972816 ],\n",
       "       [ 3.630547  ],\n",
       "       [-0.5379348 ]], dtype=float32)"
      ]
     },
     "execution_count": 128,
     "metadata": {},
     "output_type": "execute_result"
    }
   ],
   "source": [
    "net.eval()\n",
    "predicted = net.forward(input_var).data.numpy()\n",
    "predicted"
   ]
  },
  {
   "cell_type": "code",
   "execution_count": 132,
   "metadata": {},
   "outputs": [
    {
     "data": {
      "image/png": "[encoded data removed]",
      "text/plain": [
       "<Figure size 432x288 with 1 Axes>"
      ]
     },
     "metadata": {},
     "output_type": "display_data"
    },
    {
     "name": "stdout",
     "output_type": "stream",
     "text": [
      "OrderedDict([('lin.weight', tensor([[2.2499]])), ('lin.bias', tensor([1.2025]))])\n"
     ]
    }
   ],
   "source": [
    "plt.plot(x, y, 'go', label = 'from data', alpha = .5)\n",
    "plt.plot(x, predicted, label = 'prediction', alpha = 0.5)\n",
    "plt.legend()\n",
    "plt.show()\n",
    "print(net.state_dict())"
   ]
  },
  {
   "cell_type": "markdown",
   "metadata": {},
   "source": [
    "GPU Training\n"
   ]
  },
  {
   "cell_type": "code",
   "execution_count": 133,
   "metadata": {},
   "outputs": [
    {
     "data": {
      "text/plain": [
       "False"
      ]
     },
     "execution_count": 133,
     "metadata": {},
     "output_type": "execute_result"
    }
   ],
   "source": [
    "torch.cuda.is_available()"
   ]
  }
 ],
 "metadata": {
  "kernelspec": {
   "display_name": "Python 3",
   "language": "python",
   "name": "python3"
  },
  "language_info": {
   "codemirror_mode": {
    "name": "ipython",
    "version": 3
   },
   "file_extension": ".py",
   "mimetype": "text/x-python",
   "name": "python",
   "nbconvert_exporter": "python",
   "pygments_lexer": "ipython3",
   "version": "3.6.5"
  }
 },
 "nbformat": 4,
 "nbformat_minor": 2
}
